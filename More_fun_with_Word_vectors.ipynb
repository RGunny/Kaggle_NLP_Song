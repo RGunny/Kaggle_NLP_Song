{
 "cells": [
  {
   "cell_type": "markdown",
   "metadata": {},
   "source": [
    "# Numeric Representations of Words"
   ]
  },
  {
   "cell_type": "markdown",
   "metadata": {},
   "source": [
    "# Load the model that we created in Part 2"
   ]
  },
  {
   "cell_type": "code",
   "execution_count": 1,
   "metadata": {},
   "outputs": [
    {
     "name": "stdout",
     "output_type": "stream",
     "text": [
      "Collecting import_ipynb\n",
      "  Downloading https://files.pythonhosted.org/packages/63/35/495e0021bfdcc924c7cdec4e9fbb87c88dd03b9b9b22419444dc370c8a45/import-ipynb-0.1.3.tar.gz\n",
      "Building wheels for collected packages: import-ipynb\n",
      "  Running setup.py bdist_wheel for import-ipynb ... \u001b[?25ldone\n",
      "\u001b[?25h  Stored in directory: /Users/song-yeongsug/Library/Caches/pip/wheels/b4/7b/e9/a3a6e496115dffdb4e3085d0ae39ffe8a814eacc44bbf494b5\n",
      "Successfully built import-ipynb\n",
      "\u001b[31mtensorflow-tensorboard 1.5.1 has requirement html5lib==0.9999999, but you'll have html5lib 1.0b8 which is incompatible.\u001b[0m\n",
      "\u001b[31mbleach 1.5.0 has requirement html5lib!=0.9999,!=0.99999,<0.99999999,>=0.999, but you'll have html5lib 1.0b8 which is incompatible.\u001b[0m\n",
      "Installing collected packages: import-ipynb\n",
      "Successfully installed import-ipynb-0.1.3\n"
     ]
    }
   ],
   "source": [
    "#!pip install import_ipynb"
   ]
  },
  {
   "cell_type": "code",
   "execution_count": 11,
   "metadata": {},
   "outputs": [],
   "source": [
    "#ipynb import another ipynb file\n",
    "\n",
    "import import_ipynb\n",
    "import introduction"
   ]
  },
  {
   "cell_type": "code",
   "execution_count": 12,
   "metadata": {},
   "outputs": [],
   "source": [
    "from gensim.models import Word2Vec"
   ]
  },
  {
   "cell_type": "code",
   "execution_count": 13,
   "metadata": {},
   "outputs": [],
   "source": [
    "model = Word2Vec.load(\"300features_40minwords_10context\")"
   ]
  },
  {
   "cell_type": "code",
   "execution_count": 14,
   "metadata": {},
   "outputs": [
    {
     "name": "stderr",
     "output_type": "stream",
     "text": [
      "/anaconda3/lib/python3.6/site-packages/ipykernel_launcher.py:1: DeprecationWarning: Call to deprecated `syn0` (Attribute will be removed in 4.0.0, use self.wv.vectors instead).\n",
      "  \"\"\"Entry point for launching an IPython kernel.\n"
     ]
    },
    {
     "data": {
      "text/plain": [
       "numpy.ndarray"
      ]
     },
     "execution_count": 14,
     "metadata": {},
     "output_type": "execute_result"
    }
   ],
   "source": [
    "type(model.wv.syn0) "
   ]
  },
  {
   "cell_type": "code",
   "execution_count": 15,
   "metadata": {},
   "outputs": [
    {
     "name": "stderr",
     "output_type": "stream",
     "text": [
      "/anaconda3/lib/python3.6/site-packages/ipykernel_launcher.py:1: DeprecationWarning: Call to deprecated `syn0` (Attribute will be removed in 4.0.0, use self.wv.vectors instead).\n",
      "  \"\"\"Entry point for launching an IPython kernel.\n"
     ]
    },
    {
     "data": {
      "text/plain": [
       "(16490, 300)"
      ]
     },
     "execution_count": 15,
     "metadata": {},
     "output_type": "execute_result"
    }
   ],
   "source": [
    "model.wv.syn0.shape"
   ]
  },
  {
   "cell_type": "code",
   "execution_count": 16,
   "metadata": {},
   "outputs": [
    {
     "name": "stderr",
     "output_type": "stream",
     "text": [
      "/anaconda3/lib/python3.6/site-packages/ipykernel_launcher.py:1: DeprecationWarning: Call to deprecated `__getitem__` (Method will be removed in 4.0.0, use self.wv.__getitem__() instead).\n",
      "  \"\"\"Entry point for launching an IPython kernel.\n"
     ]
    },
    {
     "data": {
      "text/plain": [
       "array([ 7.41537986e-03,  5.23609342e-03, -4.97090630e-02,  8.38028863e-02,\n",
       "        5.72579652e-02, -1.81115605e-02, -2.40733977e-02,  5.31086102e-02,\n",
       "       -9.05622393e-02, -2.49681659e-02,  8.96626860e-02,  6.40268549e-02,\n",
       "        3.85011220e-03, -3.27252261e-02, -2.00048592e-02,  6.80855438e-02,\n",
       "        5.85490316e-02, -1.04972877e-01,  4.75187115e-02, -5.35832234e-02,\n",
       "        1.48192778e-01,  2.95738764e-02, -7.10599218e-03, -5.96239567e-02,\n",
       "       -2.55525373e-02, -3.20339054e-02, -2.33951360e-02, -3.61214019e-02,\n",
       "        3.54553871e-02, -6.82883197e-03,  6.23100512e-02, -9.27016605e-03,\n",
       "        1.40505955e-02,  6.71304241e-02, -8.52814242e-02, -7.28879729e-03,\n",
       "        7.44247139e-02, -1.94614276e-03, -2.97842007e-02,  9.05904733e-03,\n",
       "       -1.50373548e-01,  1.34634625e-04,  3.28904577e-02, -1.41076068e-03,\n",
       "        3.45085189e-02,  4.00814984e-04, -5.72280167e-03,  2.55060606e-02,\n",
       "       -1.51019856e-01, -1.03552513e-01,  4.38100612e-03,  7.23964497e-02,\n",
       "       -8.78470391e-02, -1.30383987e-02, -3.20154093e-02,  3.69373038e-02,\n",
       "       -4.34087664e-02, -1.96247216e-04,  4.64284457e-02,  8.65158439e-02,\n",
       "       -3.33185717e-02,  6.95516681e-03, -1.28900930e-01,  1.20322503e-01,\n",
       "       -8.93181562e-03, -5.58979213e-02,  3.28083113e-02,  3.86279374e-02,\n",
       "       -2.97742034e-03,  5.01913801e-02,  7.05649108e-02,  1.93384141e-02,\n",
       "        4.98762019e-02,  3.79507802e-02, -3.69603522e-02,  1.34574138e-02,\n",
       "        1.01006195e-01,  7.64945941e-03, -3.74258794e-02,  4.97439615e-02,\n",
       "        8.95208567e-02, -4.59216721e-02, -9.41999853e-02,  5.48459515e-02,\n",
       "       -5.18459268e-02,  5.14495857e-02, -2.46197786e-02, -2.25568116e-02,\n",
       "        6.35331348e-02,  1.02330707e-02,  3.91627895e-03,  2.37937886e-02,\n",
       "       -6.34634942e-02, -4.85664569e-02,  1.56288892e-01, -4.90503013e-02,\n",
       "       -1.12674125e-01,  9.58556160e-02, -5.27295731e-02, -3.62885632e-02,\n",
       "       -3.03306319e-02,  2.49167737e-02,  6.21990263e-02, -3.46903168e-02,\n",
       "        4.71609943e-02, -1.29943658e-02,  1.80339217e-02,  8.18239897e-03,\n",
       "        1.16613889e-02,  1.32292258e-02, -2.47303396e-02,  6.46278411e-02,\n",
       "        1.12457611e-02, -5.61157092e-02, -8.10823962e-03,  4.76379022e-02,\n",
       "        1.33496094e-02,  5.79489060e-02,  3.92496884e-02,  7.80841038e-02,\n",
       "       -1.66720431e-02,  3.18625681e-02, -4.41830494e-02,  7.10476413e-02,\n",
       "       -8.31686109e-02,  9.38246492e-03,  3.59178819e-02, -6.63728714e-02,\n",
       "       -3.30202430e-02, -3.15075479e-02, -4.42776941e-02, -9.62114483e-02,\n",
       "        7.52011165e-02, -4.06801924e-02, -1.02659196e-01, -3.52234244e-02,\n",
       "        2.41771545e-02, -8.41847733e-02, -4.99066189e-02, -1.35799428e-03,\n",
       "        1.72579456e-02,  1.71127045e-04, -1.22105302e-02, -2.55972780e-02,\n",
       "        4.64707613e-02,  2.33322848e-02, -2.33825389e-02, -4.49747741e-02,\n",
       "        3.49726109e-03, -2.03575883e-02,  1.49713727e-02,  1.10287577e-01,\n",
       "       -1.02697574e-01, -3.00759412e-02,  6.41628429e-02,  2.81526577e-02,\n",
       "        4.83936518e-02, -1.70532614e-02, -8.67403112e-03, -5.21670794e-03,\n",
       "        1.71558503e-02, -9.27611664e-02,  1.46516279e-04, -3.89634930e-02,\n",
       "        3.52286659e-02, -6.84509203e-02,  1.72937335e-03, -5.92942759e-02,\n",
       "        2.78838836e-02, -1.25048175e-01, -2.07769070e-02,  5.62840253e-02,\n",
       "        4.03540134e-02,  1.62101641e-01,  5.58465756e-02,  3.89097370e-02,\n",
       "       -7.93142542e-02,  1.14898175e-01,  5.98202385e-02, -7.96625670e-03,\n",
       "       -5.26734218e-02,  1.45316599e-02,  8.63002837e-02, -4.82013635e-03,\n",
       "       -1.28626740e-02,  5.16702142e-03, -1.63172428e-02,  9.19202343e-02,\n",
       "       -6.94928169e-02, -2.32929476e-02, -9.75390077e-02,  3.32871564e-02,\n",
       "       -6.90978207e-03,  4.97278050e-02, -3.33606377e-02, -1.07704122e-02,\n",
       "        2.62945350e-02,  5.13170399e-02, -2.45753268e-04,  1.34457471e-02,\n",
       "       -1.45187890e-02,  8.59894380e-02, -6.49633631e-02,  1.81452222e-02,\n",
       "       -2.24734262e-01, -3.19967680e-02,  4.42227582e-03,  1.52250051e-01,\n",
       "       -3.86238024e-02, -1.80513188e-02,  4.16054651e-02, -7.09045387e-04,\n",
       "        2.83491928e-02, -4.86522280e-02, -9.15586725e-02,  5.99730052e-02,\n",
       "       -9.16007534e-02, -5.43065444e-02,  3.33989114e-02, -5.67574129e-02,\n",
       "        1.99008025e-02, -1.55173894e-03, -5.91485389e-02,  1.76008306e-02,\n",
       "        1.67889092e-02,  1.65764168e-02, -2.79262122e-02, -5.62008694e-02,\n",
       "       -4.49846461e-02,  5.99001199e-02, -1.76301688e-01,  2.18239729e-03,\n",
       "       -8.21693689e-02,  5.23834229e-02, -6.48534968e-02,  1.07303616e-02,\n",
       "        2.00410299e-02, -1.40908500e-02, -2.45152749e-02, -4.44936864e-02,\n",
       "        6.33366406e-02,  7.26227611e-02, -6.43851310e-02, -2.03594472e-02,\n",
       "        1.44981872e-02, -8.18846151e-02,  2.12605353e-02,  6.84437156e-02,\n",
       "       -2.52000336e-02, -2.42763711e-03,  4.63510491e-02,  8.60989839e-02,\n",
       "       -6.81603402e-02,  2.50630490e-02, -3.11379740e-03, -3.36295739e-02,\n",
       "        1.09453857e-01, -3.78008746e-02,  4.08036672e-02, -3.64509299e-02,\n",
       "        1.81645248e-02, -7.04863518e-02, -2.08832789e-02, -1.61674980e-03,\n",
       "       -1.69153973e-01, -9.28438734e-03, -2.37845760e-02, -8.04823413e-02,\n",
       "       -5.44099547e-02,  3.82604562e-02, -3.28854695e-02, -1.51607599e-02,\n",
       "        4.99862321e-02,  2.40475796e-02,  8.91248882e-02,  7.51193687e-02,\n",
       "       -5.44826463e-02,  5.83491474e-02,  2.25484017e-02,  7.13006500e-03,\n",
       "       -2.75349687e-03,  1.86076649e-02,  3.51161584e-02,  3.76715772e-02,\n",
       "        3.03720385e-02, -1.26230061e-01, -2.76926346e-02,  5.86771220e-02,\n",
       "       -3.56753245e-02,  7.58628771e-02, -9.02430862e-02, -1.87206920e-02,\n",
       "       -4.21632715e-02, -5.66433743e-02, -8.02992433e-02, -1.18520269e-02,\n",
       "        1.50772911e-02, -3.59772369e-02,  3.43392007e-02, -1.94827225e-02],\n",
       "      dtype=float32)"
      ]
     },
     "execution_count": 16,
     "metadata": {},
     "output_type": "execute_result"
    }
   ],
   "source": [
    "model[\"flower\"]"
   ]
  },
  {
   "cell_type": "markdown",
   "metadata": {},
   "source": [
    "# From Words To Paragraphs, Attempt 1: Vector Averaging"
   ]
  },
  {
   "cell_type": "code",
   "execution_count": 17,
   "metadata": {},
   "outputs": [],
   "source": [
    "import numpy as np  # Make sure that numpy is imported\n",
    "\n",
    "def makeFeatureVec(words, model, num_features):\n",
    "    # Function to average all of the word vectors in a given\n",
    "    # paragraph\n",
    "    #\n",
    "    # Pre-initialize an empty numpy array (for speed)\n",
    "    featureVec = np.zeros((num_features,),dtype=\"float32\")\n",
    "    #\n",
    "    nwords = 0.\n",
    "    # \n",
    "    # Index2word is a list that contains the names of the words in \n",
    "    # the model's vocabulary. Convert it to a set, for speed \n",
    "    index2word_set = set(model.index2word)\n",
    "    #\n",
    "    # Loop over each word in the review and, if it is in the model's\n",
    "    # vocaublary, add its feature vector to the total\n",
    "    for word in words:\n",
    "        if word in index2word_set: \n",
    "            nwords = nwords + 1.\n",
    "            featureVec = np.add(featureVec,model[word])\n",
    "    # \n",
    "    # Divide the result by the number of words to get the average\n",
    "    featureVec = np.divide(featureVec,nwords)\n",
    "    return featureVec\n",
    "\n",
    "\n",
    "def getAvgFeatureVecs(reviews, model, num_features):\n",
    "    # Given a set of reviews (each one a list of words), calculate \n",
    "    # the average feature vector for each one and return a 2D numpy array \n",
    "    # \n",
    "    # Initialize a counter\n",
    "    counter = 0.\n",
    "    # \n",
    "    # Preallocate a 2D numpy array, for speed\n",
    "    reviewFeatureVecs = np.zeros((len(reviews),num_features),dtype=\"float32\")\n",
    "    # \n",
    "    # Loop through the reviews\n",
    "    for review in reviews:\n",
    "       #\n",
    "       # Print a status message every 1000th review\n",
    "       if counter%1000. == 0.:\n",
    "           print(\"Review %d of %d\" % (counter, len(reviews)))\n",
    "       # \n",
    "       # Call the function (defined above) that makes average feature vectors\n",
    "       reviewFeatureVecs[counter] = makeFeatureVec(review, model, \\\n",
    "           num_features)\n",
    "       #\n",
    "       # Increment the counter\n",
    "       counter = counter + 1.\n",
    "    return reviewFeatureVecs"
   ]
  },
  {
   "cell_type": "code",
   "execution_count": 10,
   "metadata": {},
   "outputs": [
    {
     "ename": "NameError",
     "evalue": "name 'review_to_wordlist' is not defined",
     "output_type": "error",
     "traceback": [
      "\u001b[0;31m---------------------------------------------------------------------------\u001b[0m",
      "\u001b[0;31mNameError\u001b[0m                                 Traceback (most recent call last)",
      "\u001b[0;32m<ipython-input-10-681278dbcdb1>\u001b[0m in \u001b[0;36m<module>\u001b[0;34m()\u001b[0m\n\u001b[1;32m      5\u001b[0m \u001b[0mclean_train_reviews\u001b[0m \u001b[0;34m=\u001b[0m \u001b[0;34m[\u001b[0m\u001b[0;34m]\u001b[0m\u001b[0;34m\u001b[0m\u001b[0m\n\u001b[1;32m      6\u001b[0m \u001b[0;32mfor\u001b[0m \u001b[0mreview\u001b[0m \u001b[0;32min\u001b[0m \u001b[0mtrain\u001b[0m\u001b[0;34m[\u001b[0m\u001b[0;34m\"review\"\u001b[0m\u001b[0;34m]\u001b[0m\u001b[0;34m:\u001b[0m\u001b[0;34m\u001b[0m\u001b[0m\n\u001b[0;32m----> 7\u001b[0;31m     \u001b[0mclean_train_reviews\u001b[0m\u001b[0;34m.\u001b[0m\u001b[0mappend\u001b[0m\u001b[0;34m(\u001b[0m \u001b[0mreview_to_wordlist\u001b[0m\u001b[0;34m(\u001b[0m \u001b[0mreview\u001b[0m\u001b[0;34m,\u001b[0m         \u001b[0mremove_stopwords\u001b[0m\u001b[0;34m=\u001b[0m\u001b[0;32mTrue\u001b[0m \u001b[0;34m)\u001b[0m\u001b[0;34m)\u001b[0m\u001b[0;34m\u001b[0m\u001b[0m\n\u001b[0m\u001b[1;32m      8\u001b[0m \u001b[0;34m\u001b[0m\u001b[0m\n\u001b[1;32m      9\u001b[0m \u001b[0mtrainDataVecs\u001b[0m \u001b[0;34m=\u001b[0m \u001b[0mgetAvgFeatureVecs\u001b[0m\u001b[0;34m(\u001b[0m \u001b[0mclean_train_reviews\u001b[0m\u001b[0;34m,\u001b[0m \u001b[0mmodel\u001b[0m\u001b[0;34m,\u001b[0m \u001b[0mnum_features\u001b[0m \u001b[0;34m)\u001b[0m\u001b[0;34m\u001b[0m\u001b[0m\n",
      "\u001b[0;31mNameError\u001b[0m: name 'review_to_wordlist' is not defined"
     ]
    }
   ],
   "source": [
    "# Calculate average feature vectors for training and testing sets,\n",
    "# using the functions we defined above. Notice that we now use stop word\n",
    "# removal.\n",
    "\n",
    "clean_train_reviews = []\n",
    "for review in train[\"review\"]:\n",
    "    clean_train_reviews.append( review_to_wordlist( review, \\\n",
    "        remove_stopwords=True ))\n",
    "\n",
    "trainDataVecs = getAvgFeatureVecs( clean_train_reviews, model, num_features )\n",
    "\n",
    "print(\"Creating average feature vecs for test reviews\")\n",
    "clean_test_reviews = []\n",
    "for review in test[\"review\"]:\n",
    "    clean_test_reviews.append( review_to_wordlist( review, \\\n",
    "        remove_stopwords=True ))\n",
    "\n",
    "testDataVecs = getAvgFeatureVecs( clean_test_reviews, model, num_features )"
   ]
  },
  {
   "cell_type": "code",
   "execution_count": null,
   "metadata": {},
   "outputs": [],
   "source": [
    "# Fit a random forest to the training data, using 100 trees\n",
    "from sklearn.ensemble import RandomForestClassifier\n",
    "forest = RandomForestClassifier( n_estimators = 100 )\n",
    "\n",
    "print \"Fitting a random forest to labeled training data...\"\n",
    "forest = forest.fit( trainDataVecs, train[\"sentiment\"] )\n",
    "\n",
    "# Test & extract results \n",
    "result = forest.predict( testDataVecs )\n",
    "\n",
    "# Write the test results \n",
    "output = pd.DataFrame( data={\"id\":test[\"id\"], \"sentiment\":result} )\n",
    "output.to_csv( \"Word2Vec_AverageVectors.csv\", index=False, quoting=3 )\n"
   ]
  },
  {
   "cell_type": "code",
   "execution_count": null,
   "metadata": {},
   "outputs": [],
   "source": []
  },
  {
   "cell_type": "code",
   "execution_count": null,
   "metadata": {},
   "outputs": [],
   "source": []
  },
  {
   "cell_type": "code",
   "execution_count": null,
   "metadata": {},
   "outputs": [],
   "source": []
  },
  {
   "cell_type": "code",
   "execution_count": null,
   "metadata": {},
   "outputs": [],
   "source": []
  },
  {
   "cell_type": "code",
   "execution_count": null,
   "metadata": {},
   "outputs": [],
   "source": []
  },
  {
   "cell_type": "code",
   "execution_count": null,
   "metadata": {},
   "outputs": [],
   "source": []
  },
  {
   "cell_type": "code",
   "execution_count": null,
   "metadata": {},
   "outputs": [],
   "source": []
  },
  {
   "cell_type": "code",
   "execution_count": null,
   "metadata": {},
   "outputs": [],
   "source": []
  },
  {
   "cell_type": "code",
   "execution_count": null,
   "metadata": {},
   "outputs": [],
   "source": []
  },
  {
   "cell_type": "code",
   "execution_count": null,
   "metadata": {},
   "outputs": [],
   "source": []
  },
  {
   "cell_type": "code",
   "execution_count": null,
   "metadata": {},
   "outputs": [],
   "source": []
  },
  {
   "cell_type": "code",
   "execution_count": null,
   "metadata": {},
   "outputs": [],
   "source": []
  },
  {
   "cell_type": "code",
   "execution_count": null,
   "metadata": {},
   "outputs": [],
   "source": []
  },
  {
   "cell_type": "code",
   "execution_count": null,
   "metadata": {},
   "outputs": [],
   "source": []
  }
 ],
 "metadata": {
  "kernelspec": {
   "display_name": "Python 3",
   "language": "python",
   "name": "python3"
  },
  "language_info": {
   "codemirror_mode": {
    "name": "ipython",
    "version": 3
   },
   "file_extension": ".py",
   "mimetype": "text/x-python",
   "name": "python",
   "nbconvert_exporter": "python",
   "pygments_lexer": "ipython3",
   "version": "3.6.4"
  }
 },
 "nbformat": 4,
 "nbformat_minor": 2
}
