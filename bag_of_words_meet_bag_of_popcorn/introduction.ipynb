{
 "cells": [
  {
   "cell_type": "markdown",
   "metadata": {},
   "source": [
    "# Introducing Distributed Word Vectors"
   ]
  },
  {
   "cell_type": "markdown",
   "metadata": {},
   "source": [
    "IMDB 영화 리뷰 데이터로 "
   ]
  },
  {
   "cell_type": "code",
   "execution_count": 8,
   "metadata": {},
   "outputs": [],
   "source": [
    "import warnings\n",
    "warnings.filterwarnings('ignore')"
   ]
  },
  {
   "cell_type": "code",
   "execution_count": 56,
   "metadata": {},
   "outputs": [
    {
     "name": "stdout",
     "output_type": "stream",
     "text": [
      "Read 25000 labeled train reviews, 25000 labeled test reviews, and 50000 unlabeled reviews\n",
      "\n"
     ]
    }
   ],
   "source": [
    "import pandas as pd\n",
    "\n",
    "# Read data from files \n",
    "train = pd.read_csv( \"labeledTrainData.tsv\", header=0, \n",
    " delimiter=\"\\t\", quoting=3 )\n",
    "test = pd.read_csv( \"testData.tsv\", header=0, delimiter=\"\\t\", quoting=3 )\n",
    "unlabeled_train = pd.read_csv( \"unlabeledTrainData.tsv\", header=0, \n",
    " delimiter=\"\\t\", quoting=3 )\n",
    "\n",
    "# Verify the number of reviews that were read (100,000 in total)\n",
    "print(\"Read %d labeled train reviews, %d labeled test reviews, \" \\\n",
    " \"and %d unlabeled reviews\\n\" % (train[\"review\"].size,  \n",
    " test[\"review\"].size, unlabeled_train[\"review\"].size ))"
   ]
  },
  {
   "cell_type": "code",
   "execution_count": 10,
   "metadata": {},
   "outputs": [
    {
     "data": {
      "text/html": [
       "<div>\n",
       "<style scoped>\n",
       "    .dataframe tbody tr th:only-of-type {\n",
       "        vertical-align: middle;\n",
       "    }\n",
       "\n",
       "    .dataframe tbody tr th {\n",
       "        vertical-align: top;\n",
       "    }\n",
       "\n",
       "    .dataframe thead th {\n",
       "        text-align: right;\n",
       "    }\n",
       "</style>\n",
       "<table border=\"1\" class=\"dataframe\">\n",
       "  <thead>\n",
       "    <tr style=\"text-align: right;\">\n",
       "      <th></th>\n",
       "      <th>id</th>\n",
       "      <th>sentiment</th>\n",
       "      <th>review</th>\n",
       "    </tr>\n",
       "  </thead>\n",
       "  <tbody>\n",
       "    <tr>\n",
       "      <th>24995</th>\n",
       "      <td>\"3453_3\"</td>\n",
       "      <td>0</td>\n",
       "      <td>\"It seems like more consideration has gone int...</td>\n",
       "    </tr>\n",
       "    <tr>\n",
       "      <th>24996</th>\n",
       "      <td>\"5064_1\"</td>\n",
       "      <td>0</td>\n",
       "      <td>\"I don't believe they made this film. Complete...</td>\n",
       "    </tr>\n",
       "    <tr>\n",
       "      <th>24997</th>\n",
       "      <td>\"10905_3\"</td>\n",
       "      <td>0</td>\n",
       "      <td>\"Guy is a loser. Can't get girls, needs to bui...</td>\n",
       "    </tr>\n",
       "    <tr>\n",
       "      <th>24998</th>\n",
       "      <td>\"10194_3\"</td>\n",
       "      <td>0</td>\n",
       "      <td>\"This 30 minute documentary Buñuel made in the...</td>\n",
       "    </tr>\n",
       "    <tr>\n",
       "      <th>24999</th>\n",
       "      <td>\"8478_8\"</td>\n",
       "      <td>1</td>\n",
       "      <td>\"I saw this movie as a child and it broke my h...</td>\n",
       "    </tr>\n",
       "  </tbody>\n",
       "</table>\n",
       "</div>"
      ],
      "text/plain": [
       "              id  sentiment                                             review\n",
       "24995   \"3453_3\"          0  \"It seems like more consideration has gone int...\n",
       "24996   \"5064_1\"          0  \"I don't believe they made this film. Complete...\n",
       "24997  \"10905_3\"          0  \"Guy is a loser. Can't get girls, needs to bui...\n",
       "24998  \"10194_3\"          0  \"This 30 minute documentary Buñuel made in the...\n",
       "24999   \"8478_8\"          1  \"I saw this movie as a child and it broke my h..."
      ]
     },
     "execution_count": 10,
     "metadata": {},
     "output_type": "execute_result"
    }
   ],
   "source": [
    "train.tail(5)"
   ]
  },
  {
   "cell_type": "code",
   "execution_count": 11,
   "metadata": {},
   "outputs": [
    {
     "data": {
      "text/html": [
       "<div>\n",
       "<style scoped>\n",
       "    .dataframe tbody tr th:only-of-type {\n",
       "        vertical-align: middle;\n",
       "    }\n",
       "\n",
       "    .dataframe tbody tr th {\n",
       "        vertical-align: top;\n",
       "    }\n",
       "\n",
       "    .dataframe thead th {\n",
       "        text-align: right;\n",
       "    }\n",
       "</style>\n",
       "<table border=\"1\" class=\"dataframe\">\n",
       "  <thead>\n",
       "    <tr style=\"text-align: right;\">\n",
       "      <th></th>\n",
       "      <th>id</th>\n",
       "      <th>review</th>\n",
       "    </tr>\n",
       "  </thead>\n",
       "  <tbody>\n",
       "    <tr>\n",
       "      <th>24995</th>\n",
       "      <td>\"2155_10\"</td>\n",
       "      <td>\"Sony Pictures Classics, I'm looking at you! S...</td>\n",
       "    </tr>\n",
       "    <tr>\n",
       "      <th>24996</th>\n",
       "      <td>\"59_10\"</td>\n",
       "      <td>\"I always felt that Ms. Merkerson had never go...</td>\n",
       "    </tr>\n",
       "    <tr>\n",
       "      <th>24997</th>\n",
       "      <td>\"2531_1\"</td>\n",
       "      <td>\"I was so disappointed in this movie. I am ver...</td>\n",
       "    </tr>\n",
       "    <tr>\n",
       "      <th>24998</th>\n",
       "      <td>\"7772_8\"</td>\n",
       "      <td>\"From the opening sequence, filled with black ...</td>\n",
       "    </tr>\n",
       "    <tr>\n",
       "      <th>24999</th>\n",
       "      <td>\"11465_10\"</td>\n",
       "      <td>\"This is a great horror film for people who do...</td>\n",
       "    </tr>\n",
       "  </tbody>\n",
       "</table>\n",
       "</div>"
      ],
      "text/plain": [
       "               id                                             review\n",
       "24995   \"2155_10\"  \"Sony Pictures Classics, I'm looking at you! S...\n",
       "24996     \"59_10\"  \"I always felt that Ms. Merkerson had never go...\n",
       "24997    \"2531_1\"  \"I was so disappointed in this movie. I am ver...\n",
       "24998    \"7772_8\"  \"From the opening sequence, filled with black ...\n",
       "24999  \"11465_10\"  \"This is a great horror film for people who do..."
      ]
     },
     "execution_count": 11,
     "metadata": {},
     "output_type": "execute_result"
    }
   ],
   "source": [
    "test.tail(5)"
   ]
  },
  {
   "cell_type": "code",
   "execution_count": 12,
   "metadata": {},
   "outputs": [],
   "source": [
    "# Import various modules for string cleaning\n",
    "from bs4 import BeautifulSoup\n",
    "import re\n",
    "from nltk.corpus import stopwords\n",
    "\n",
    "def review_to_wordlist( review, remove_stopwords=False ):\n",
    "    # Function to convert a document to a sequence of words,\n",
    "    # optionally removing stop words.  Returns a list of words.\n",
    "    #\n",
    "    # 1. Remove HTML\n",
    "    review_text = BeautifulSoup(review, \"lxml\").get_text()\n",
    "    #  \n",
    "    # 2. Remove non-letters\n",
    "    review_text = re.sub(\"[^a-zA-Z]\",\" \", review_text)\n",
    "    #\n",
    "    # 3. Convert words to lower case and split them\n",
    "    words = review_text.lower().split()\n",
    "    #\n",
    "    # 4. Optionally remove stop words (false by default)\n",
    "    if remove_stopwords:\n",
    "        stops = set(stopwords.words(\"english\"))\n",
    "        words = [w for w in words if not w in stops]\n",
    "    #\n",
    "    # 5. Return a list of words\n",
    "    return(words)"
   ]
  },
  {
   "cell_type": "code",
   "execution_count": 13,
   "metadata": {},
   "outputs": [],
   "source": [
    "# Download the punkt tokenizer for sentence splitting\n",
    "#import nltk.data\n",
    "#nltk.download()   \n",
    "\n",
    "# Load the punkt tokenizer\n",
    "tokenizer = nltk.data.load('tokenizers/punkt/english.pickle')\n",
    "\n",
    "# Define a function to split a review into parsed sentences\n",
    "def review_to_sentences( review, tokenizer, remove_stopwords=False ):\n",
    "    # Function to split a review into parsed sentences. Returns a \n",
    "    # list of sentences, where each sentence is a list of words\n",
    "    #\n",
    "    # 1. Use the NLTK tokenizer to split the paragraph into sentences\n",
    "    raw_sentences = tokenizer.tokenize(review.strip())\n",
    "    #\n",
    "    # 2. Loop over each sentence\n",
    "    sentences = []\n",
    "    for raw_sentence in raw_sentences:\n",
    "        # If a sentence is empty, skip it\n",
    "        if len(raw_sentence) > 0:\n",
    "            # Otherwise, call review_to_wordlist to get a list of words\n",
    "            sentences.append( review_to_wordlist( raw_sentence, \\\n",
    "              remove_stopwords ))\n",
    "    #\n",
    "    # Return the list of sentences (each sentence is a list of words,\n",
    "    # so this returns a list of lists\n",
    "    return sentences"
   ]
  },
  {
   "cell_type": "markdown",
   "metadata": {},
   "source": [
    "<img src=\"nltk.png\" width=\"500\"><BR>"
   ]
  },
  {
   "cell_type": "code",
   "execution_count": 14,
   "metadata": {},
   "outputs": [
    {
     "name": "stdout",
     "output_type": "stream",
     "text": [
      "Parsing sentences from training set\n",
      "Parsing sentences from unlabeled set\n"
     ]
    }
   ],
   "source": [
    "sentences = []  # Initialize an empty list of sentences\n",
    "\n",
    "print(\"Parsing sentences from training set\")\n",
    "for review in train[\"review\"]:\n",
    "    sentences += review_to_sentences(review, tokenizer)\n",
    "\n",
    "print(\"Parsing sentences from unlabeled set\")\n",
    "for review in unlabeled_train[\"review\"]:\n",
    "    sentences += review_to_sentences(review, tokenizer)"
   ]
  },
  {
   "cell_type": "code",
   "execution_count": 15,
   "metadata": {},
   "outputs": [
    {
     "name": "stdout",
     "output_type": "stream",
     "text": [
      "795538\n"
     ]
    }
   ],
   "source": [
    "print(len(sentences))"
   ]
  },
  {
   "cell_type": "code",
   "execution_count": 16,
   "metadata": {},
   "outputs": [
    {
     "name": "stdout",
     "output_type": "stream",
     "text": [
      "['with', 'all', 'this', 'stuff', 'going', 'down', 'at', 'the', 'moment', 'with', 'mj', 'i', 've', 'started', 'listening', 'to', 'his', 'music', 'watching', 'the', 'odd', 'documentary', 'here', 'and', 'there', 'watched', 'the', 'wiz', 'and', 'watched', 'moonwalker', 'again']\n"
     ]
    }
   ],
   "source": [
    "print(sentences[0])"
   ]
  },
  {
   "cell_type": "markdown",
   "metadata": {},
   "source": [
    "# Training and Saving Your Model\n"
   ]
  },
  {
   "cell_type": "raw",
   "metadata": {},
   "source": [
    "Architecture: are skip-gram (default) or continuous bag of words. \n",
    "\n",
    "\n",
    "Training algorithm: Hierarchical softmax (default) or negative sampling. \n",
    "\n",
    "\n",
    "Downsampling of frequent words: The Google documentation recommends values between .00001 and .001. For us, values closer 0.001 seemed to improve the accuracy of the final model.\n",
    "\n",
    "\n",
    "\n",
    "Word vector dimensionality: More features result in longer runtimes, and often, but not always, result in better models. Reasonable values can be in the tens to hundreds; we used 300.\n",
    "\n",
    "\n",
    "\n",
    "Context / window size: How many words of context should the training algorithm take into account? 10 seems to work well for hierarchical softmax (more is better, up to a point).\n",
    "\n",
    "\n",
    "Worker threads: Number of parallel processes to run. This is computer-specific, but between 4 and 6 should work on most systems.\n",
    "\n",
    "\n",
    "\n",
    "Minimum word count: Reasonable values could be between 10 and 100. In this case, since each movie occurs 30 times, we set the minimum word count to 40, to avoid attaching too much importance to individual movie titles. This resulted in an overall vocabulary size of around 15,000 words. Higher values also help limit run time."
   ]
  },
  {
   "cell_type": "code",
   "execution_count": 18,
   "metadata": {},
   "outputs": [
    {
     "name": "stderr",
     "output_type": "stream",
     "text": [
      "2018-06-08 13:42:08,737 : INFO : 'pattern' package not found; tag filters are not available for English\n",
      "2018-06-08 13:42:08,745 : INFO : collecting all words and their counts\n",
      "2018-06-08 13:42:08,745 : INFO : PROGRESS: at sentence #0, processed 0 words, keeping 0 word types\n",
      "2018-06-08 13:42:08,801 : INFO : PROGRESS: at sentence #10000, processed 225803 words, keeping 17776 word types\n",
      "2018-06-08 13:42:08,857 : INFO : PROGRESS: at sentence #20000, processed 451892 words, keeping 24948 word types\n",
      "2018-06-08 13:42:08,909 : INFO : PROGRESS: at sentence #30000, processed 671315 words, keeping 30034 word types\n"
     ]
    },
    {
     "name": "stdout",
     "output_type": "stream",
     "text": [
      "Training model...\n"
     ]
    },
    {
     "name": "stderr",
     "output_type": "stream",
     "text": [
      "2018-06-08 13:42:08,963 : INFO : PROGRESS: at sentence #40000, processed 897815 words, keeping 34348 word types\n",
      "2018-06-08 13:42:09,017 : INFO : PROGRESS: at sentence #50000, processed 1116963 words, keeping 37761 word types\n",
      "2018-06-08 13:42:09,066 : INFO : PROGRESS: at sentence #60000, processed 1338404 words, keeping 40723 word types\n",
      "2018-06-08 13:42:09,114 : INFO : PROGRESS: at sentence #70000, processed 1561580 words, keeping 43333 word types\n",
      "2018-06-08 13:42:09,158 : INFO : PROGRESS: at sentence #80000, processed 1780887 words, keeping 45714 word types\n",
      "2018-06-08 13:42:09,210 : INFO : PROGRESS: at sentence #90000, processed 2004996 words, keeping 48135 word types\n",
      "2018-06-08 13:42:09,258 : INFO : PROGRESS: at sentence #100000, processed 2226966 words, keeping 50207 word types\n",
      "2018-06-08 13:42:09,305 : INFO : PROGRESS: at sentence #110000, processed 2446580 words, keeping 52081 word types\n",
      "2018-06-08 13:42:09,351 : INFO : PROGRESS: at sentence #120000, processed 2668775 words, keeping 54119 word types\n",
      "2018-06-08 13:42:09,402 : INFO : PROGRESS: at sentence #130000, processed 2894303 words, keeping 55847 word types\n",
      "2018-06-08 13:42:09,450 : INFO : PROGRESS: at sentence #140000, processed 3107005 words, keeping 57346 word types\n",
      "2018-06-08 13:42:09,498 : INFO : PROGRESS: at sentence #150000, processed 3332627 words, keeping 59055 word types\n",
      "2018-06-08 13:42:09,547 : INFO : PROGRESS: at sentence #160000, processed 3555315 words, keeping 60617 word types\n",
      "2018-06-08 13:42:09,595 : INFO : PROGRESS: at sentence #170000, processed 3778655 words, keeping 62077 word types\n",
      "2018-06-08 13:42:09,642 : INFO : PROGRESS: at sentence #180000, processed 3999236 words, keeping 63496 word types\n",
      "2018-06-08 13:42:09,692 : INFO : PROGRESS: at sentence #190000, processed 4224449 words, keeping 64794 word types\n",
      "2018-06-08 13:42:09,742 : INFO : PROGRESS: at sentence #200000, processed 4448603 words, keeping 66087 word types\n",
      "2018-06-08 13:42:09,791 : INFO : PROGRESS: at sentence #210000, processed 4669967 words, keeping 67390 word types\n",
      "2018-06-08 13:42:09,850 : INFO : PROGRESS: at sentence #220000, processed 4894968 words, keeping 68697 word types\n",
      "2018-06-08 13:42:09,924 : INFO : PROGRESS: at sentence #230000, processed 5117545 words, keeping 69958 word types\n",
      "2018-06-08 13:42:09,984 : INFO : PROGRESS: at sentence #240000, processed 5345050 words, keeping 71167 word types\n",
      "2018-06-08 13:42:10,035 : INFO : PROGRESS: at sentence #250000, processed 5559165 words, keeping 72351 word types\n",
      "2018-06-08 13:42:10,086 : INFO : PROGRESS: at sentence #260000, processed 5779146 words, keeping 73478 word types\n",
      "2018-06-08 13:42:10,138 : INFO : PROGRESS: at sentence #270000, processed 6000435 words, keeping 74767 word types\n",
      "2018-06-08 13:42:10,188 : INFO : PROGRESS: at sentence #280000, processed 6226314 words, keeping 76369 word types\n",
      "2018-06-08 13:42:10,239 : INFO : PROGRESS: at sentence #290000, processed 6449474 words, keeping 77839 word types\n",
      "2018-06-08 13:42:10,289 : INFO : PROGRESS: at sentence #300000, processed 6674077 words, keeping 79171 word types\n",
      "2018-06-08 13:42:10,341 : INFO : PROGRESS: at sentence #310000, processed 6899391 words, keeping 80480 word types\n",
      "2018-06-08 13:42:10,400 : INFO : PROGRESS: at sentence #320000, processed 7124278 words, keeping 81808 word types\n",
      "2018-06-08 13:42:10,457 : INFO : PROGRESS: at sentence #330000, processed 7346021 words, keeping 83030 word types\n",
      "2018-06-08 13:42:10,513 : INFO : PROGRESS: at sentence #340000, processed 7575533 words, keeping 84280 word types\n",
      "2018-06-08 13:42:10,565 : INFO : PROGRESS: at sentence #350000, processed 7798803 words, keeping 85425 word types\n",
      "2018-06-08 13:42:10,617 : INFO : PROGRESS: at sentence #360000, processed 8019427 words, keeping 86596 word types\n",
      "2018-06-08 13:42:10,681 : INFO : PROGRESS: at sentence #370000, processed 8246619 words, keeping 87708 word types\n",
      "2018-06-08 13:42:10,744 : INFO : PROGRESS: at sentence #380000, processed 8471766 words, keeping 88878 word types\n",
      "2018-06-08 13:42:10,823 : INFO : PROGRESS: at sentence #390000, processed 8701497 words, keeping 89907 word types\n",
      "2018-06-08 13:42:10,896 : INFO : PROGRESS: at sentence #400000, processed 8924446 words, keeping 90916 word types\n",
      "2018-06-08 13:42:10,971 : INFO : PROGRESS: at sentence #410000, processed 9145796 words, keeping 91880 word types\n",
      "2018-06-08 13:42:11,044 : INFO : PROGRESS: at sentence #420000, processed 9366876 words, keeping 92912 word types\n",
      "2018-06-08 13:42:11,120 : INFO : PROGRESS: at sentence #430000, processed 9594413 words, keeping 93932 word types\n",
      "2018-06-08 13:42:11,173 : INFO : PROGRESS: at sentence #440000, processed 9821166 words, keeping 94906 word types\n",
      "2018-06-08 13:42:11,230 : INFO : PROGRESS: at sentence #450000, processed 10044928 words, keeping 96036 word types\n",
      "2018-06-08 13:42:11,285 : INFO : PROGRESS: at sentence #460000, processed 10277688 words, keeping 97088 word types\n",
      "2018-06-08 13:42:11,339 : INFO : PROGRESS: at sentence #470000, processed 10505613 words, keeping 97933 word types\n",
      "2018-06-08 13:42:11,394 : INFO : PROGRESS: at sentence #480000, processed 10725997 words, keeping 98862 word types\n",
      "2018-06-08 13:42:11,486 : INFO : PROGRESS: at sentence #490000, processed 10952741 words, keeping 99871 word types\n",
      "2018-06-08 13:42:11,592 : INFO : PROGRESS: at sentence #500000, processed 11174397 words, keeping 100765 word types\n",
      "2018-06-08 13:42:11,668 : INFO : PROGRESS: at sentence #510000, processed 11399672 words, keeping 101699 word types\n",
      "2018-06-08 13:42:11,735 : INFO : PROGRESS: at sentence #520000, processed 11623020 words, keeping 102598 word types\n",
      "2018-06-08 13:42:11,790 : INFO : PROGRESS: at sentence #530000, processed 11847418 words, keeping 103400 word types\n",
      "2018-06-08 13:42:11,843 : INFO : PROGRESS: at sentence #540000, processed 12072033 words, keeping 104265 word types\n",
      "2018-06-08 13:42:11,895 : INFO : PROGRESS: at sentence #550000, processed 12297571 words, keeping 105133 word types\n",
      "2018-06-08 13:42:11,946 : INFO : PROGRESS: at sentence #560000, processed 12518861 words, keeping 105997 word types\n",
      "2018-06-08 13:42:12,036 : INFO : PROGRESS: at sentence #570000, processed 12747916 words, keeping 106787 word types\n",
      "2018-06-08 13:42:12,125 : INFO : PROGRESS: at sentence #580000, processed 12969412 words, keeping 107665 word types\n",
      "2018-06-08 13:42:12,196 : INFO : PROGRESS: at sentence #590000, processed 13194937 words, keeping 108501 word types\n",
      "2018-06-08 13:42:12,261 : INFO : PROGRESS: at sentence #600000, processed 13417135 words, keeping 109218 word types\n",
      "2018-06-08 13:42:12,313 : INFO : PROGRESS: at sentence #610000, processed 13638158 words, keeping 110092 word types\n",
      "2018-06-08 13:42:12,369 : INFO : PROGRESS: at sentence #620000, processed 13864483 words, keeping 110837 word types\n",
      "2018-06-08 13:42:12,447 : INFO : PROGRESS: at sentence #630000, processed 14088769 words, keeping 111610 word types\n",
      "2018-06-08 13:42:12,516 : INFO : PROGRESS: at sentence #640000, processed 14309552 words, keeping 112416 word types\n",
      "2018-06-08 13:42:12,590 : INFO : PROGRESS: at sentence #650000, processed 14535308 words, keeping 113196 word types\n",
      "2018-06-08 13:42:12,659 : INFO : PROGRESS: at sentence #660000, processed 14758098 words, keeping 113945 word types\n",
      "2018-06-08 13:42:12,727 : INFO : PROGRESS: at sentence #670000, processed 14981482 words, keeping 114643 word types\n",
      "2018-06-08 13:42:12,797 : INFO : PROGRESS: at sentence #680000, processed 15206314 words, keeping 115354 word types\n",
      "2018-06-08 13:42:12,868 : INFO : PROGRESS: at sentence #690000, processed 15428507 words, keeping 116131 word types\n",
      "2018-06-08 13:42:12,948 : INFO : PROGRESS: at sentence #700000, processed 15657213 words, keeping 116943 word types\n",
      "2018-06-08 13:42:13,014 : INFO : PROGRESS: at sentence #710000, processed 15880202 words, keeping 117596 word types\n",
      "2018-06-08 13:42:13,066 : INFO : PROGRESS: at sentence #720000, processed 16105489 words, keeping 118221 word types\n",
      "2018-06-08 13:42:13,117 : INFO : PROGRESS: at sentence #730000, processed 16331870 words, keeping 118954 word types\n",
      "2018-06-08 13:42:13,172 : INFO : PROGRESS: at sentence #740000, processed 16552903 words, keeping 119668 word types\n",
      "2018-06-08 13:42:13,227 : INFO : PROGRESS: at sentence #750000, processed 16771230 words, keeping 120295 word types\n"
     ]
    },
    {
     "name": "stderr",
     "output_type": "stream",
     "text": [
      "2018-06-08 13:42:13,282 : INFO : PROGRESS: at sentence #760000, processed 16990622 words, keeping 120930 word types\n",
      "2018-06-08 13:42:13,341 : INFO : PROGRESS: at sentence #770000, processed 17217759 words, keeping 121703 word types\n",
      "2018-06-08 13:42:13,447 : INFO : PROGRESS: at sentence #780000, processed 17447905 words, keeping 122402 word types\n",
      "2018-06-08 13:42:13,531 : INFO : PROGRESS: at sentence #790000, processed 17674981 words, keeping 123066 word types\n",
      "2018-06-08 13:42:13,580 : INFO : collected 123504 word types from a corpus of 17798082 raw words and 795538 sentences\n",
      "2018-06-08 13:42:13,581 : INFO : Loading a fresh vocabulary\n",
      "2018-06-08 13:42:13,685 : INFO : min_count=40 retains 16490 unique words (13% of original 123504, drops 107014)\n",
      "2018-06-08 13:42:13,686 : INFO : min_count=40 leaves 17238940 word corpus (96% of original 17798082, drops 559142)\n",
      "2018-06-08 13:42:13,760 : INFO : deleting the raw counts dictionary of 123504 items\n",
      "2018-06-08 13:42:13,767 : INFO : sample=0.001 downsamples 48 most-common words\n",
      "2018-06-08 13:42:13,768 : INFO : downsampling leaves estimated 12749658 word corpus (74.0% of prior 17238940)\n",
      "2018-06-08 13:42:13,848 : INFO : estimated required memory for 16490 words and 300 dimensions: 47821000 bytes\n",
      "2018-06-08 13:42:13,850 : INFO : resetting layer weights\n",
      "2018-06-08 13:42:14,154 : INFO : training model with 4 workers on 16490 vocabulary and 300 features, using sg=0 hs=0 sample=0.001 negative=5 window=10\n",
      "2018-06-08 13:42:15,179 : INFO : EPOCH 1 - PROGRESS: at 5.09% examples, 649121 words/s, in_qsize 7, out_qsize 0\n",
      "2018-06-08 13:42:16,188 : INFO : EPOCH 1 - PROGRESS: at 12.74% examples, 803730 words/s, in_qsize 7, out_qsize 0\n",
      "2018-06-08 13:42:17,191 : INFO : EPOCH 1 - PROGRESS: at 20.51% examples, 861054 words/s, in_qsize 7, out_qsize 0\n",
      "2018-06-08 13:42:18,196 : INFO : EPOCH 1 - PROGRESS: at 28.59% examples, 902027 words/s, in_qsize 7, out_qsize 0\n",
      "2018-06-08 13:42:19,199 : INFO : EPOCH 1 - PROGRESS: at 36.85% examples, 929653 words/s, in_qsize 7, out_qsize 0\n",
      "2018-06-08 13:42:20,203 : INFO : EPOCH 1 - PROGRESS: at 45.29% examples, 954019 words/s, in_qsize 7, out_qsize 0\n",
      "2018-06-08 13:42:21,207 : INFO : EPOCH 1 - PROGRESS: at 53.72% examples, 971318 words/s, in_qsize 7, out_qsize 0\n",
      "2018-06-08 13:42:22,213 : INFO : EPOCH 1 - PROGRESS: at 62.08% examples, 984113 words/s, in_qsize 7, out_qsize 0\n",
      "2018-06-08 13:42:23,222 : INFO : EPOCH 1 - PROGRESS: at 70.60% examples, 994616 words/s, in_qsize 7, out_qsize 0\n",
      "2018-06-08 13:42:24,230 : INFO : EPOCH 1 - PROGRESS: at 79.12% examples, 1002990 words/s, in_qsize 7, out_qsize 0\n",
      "2018-06-08 13:42:25,230 : INFO : EPOCH 1 - PROGRESS: at 87.53% examples, 1009301 words/s, in_qsize 7, out_qsize 0\n",
      "2018-06-08 13:42:26,231 : INFO : EPOCH 1 - PROGRESS: at 95.97% examples, 1014431 words/s, in_qsize 7, out_qsize 0\n",
      "2018-06-08 13:42:26,692 : INFO : worker thread finished; awaiting finish of 3 more threads\n",
      "2018-06-08 13:42:26,697 : INFO : worker thread finished; awaiting finish of 2 more threads\n",
      "2018-06-08 13:42:26,709 : INFO : worker thread finished; awaiting finish of 1 more threads\n",
      "2018-06-08 13:42:26,713 : INFO : worker thread finished; awaiting finish of 0 more threads\n",
      "2018-06-08 13:42:26,714 : INFO : EPOCH - 1 : training on 17798082 raw words (12751230 effective words) took 12.5s, 1017030 effective words/s\n",
      "2018-06-08 13:42:27,724 : INFO : EPOCH 2 - PROGRESS: at 8.39% examples, 1062095 words/s, in_qsize 7, out_qsize 0\n",
      "2018-06-08 13:42:28,733 : INFO : EPOCH 2 - PROGRESS: at 17.00% examples, 1070095 words/s, in_qsize 7, out_qsize 0\n",
      "2018-06-08 13:42:29,737 : INFO : EPOCH 2 - PROGRESS: at 25.57% examples, 1074139 words/s, in_qsize 7, out_qsize 0\n",
      "2018-06-08 13:42:30,746 : INFO : EPOCH 2 - PROGRESS: at 34.16% examples, 1074642 words/s, in_qsize 7, out_qsize 0\n",
      "2018-06-08 13:42:31,749 : INFO : EPOCH 2 - PROGRESS: at 42.63% examples, 1076590 words/s, in_qsize 7, out_qsize 0\n",
      "2018-06-08 13:42:32,753 : INFO : EPOCH 2 - PROGRESS: at 51.13% examples, 1077727 words/s, in_qsize 7, out_qsize 0\n",
      "2018-06-08 13:42:33,758 : INFO : EPOCH 2 - PROGRESS: at 59.06% examples, 1068977 words/s, in_qsize 7, out_qsize 0\n",
      "2018-06-08 13:42:34,767 : INFO : EPOCH 2 - PROGRESS: at 66.45% examples, 1052260 words/s, in_qsize 7, out_qsize 0\n",
      "2018-06-08 13:42:35,768 : INFO : EPOCH 2 - PROGRESS: at 74.85% examples, 1054459 words/s, in_qsize 7, out_qsize 0\n",
      "2018-06-08 13:42:36,772 : INFO : EPOCH 2 - PROGRESS: at 82.82% examples, 1050083 words/s, in_qsize 7, out_qsize 0\n",
      "2018-06-08 13:42:37,780 : INFO : EPOCH 2 - PROGRESS: at 91.26% examples, 1052019 words/s, in_qsize 7, out_qsize 0\n",
      "2018-06-08 13:42:38,781 : INFO : EPOCH 2 - PROGRESS: at 99.72% examples, 1054356 words/s, in_qsize 5, out_qsize 0\n",
      "2018-06-08 13:42:38,794 : INFO : worker thread finished; awaiting finish of 3 more threads\n",
      "2018-06-08 13:42:38,799 : INFO : worker thread finished; awaiting finish of 2 more threads\n",
      "2018-06-08 13:42:38,807 : INFO : worker thread finished; awaiting finish of 1 more threads\n",
      "2018-06-08 13:42:38,816 : INFO : worker thread finished; awaiting finish of 0 more threads\n",
      "2018-06-08 13:42:38,817 : INFO : EPOCH - 2 : training on 17798082 raw words (12750210 effective words) took 12.1s, 1054107 effective words/s\n",
      "2018-06-08 13:42:39,839 : INFO : EPOCH 3 - PROGRESS: at 8.44% examples, 1059677 words/s, in_qsize 7, out_qsize 0\n",
      "2018-06-08 13:42:40,848 : INFO : EPOCH 3 - PROGRESS: at 17.07% examples, 1069181 words/s, in_qsize 7, out_qsize 0\n",
      "2018-06-08 13:42:41,854 : INFO : EPOCH 3 - PROGRESS: at 25.63% examples, 1072825 words/s, in_qsize 7, out_qsize 0\n",
      "2018-06-08 13:42:42,858 : INFO : EPOCH 3 - PROGRESS: at 34.22% examples, 1075177 words/s, in_qsize 7, out_qsize 0\n",
      "2018-06-08 13:42:43,859 : INFO : EPOCH 3 - PROGRESS: at 42.63% examples, 1075748 words/s, in_qsize 7, out_qsize 0\n",
      "2018-06-08 13:42:44,866 : INFO : EPOCH 3 - PROGRESS: at 51.01% examples, 1074149 words/s, in_qsize 7, out_qsize 0\n",
      "2018-06-08 13:42:45,866 : INFO : EPOCH 3 - PROGRESS: at 59.39% examples, 1074739 words/s, in_qsize 7, out_qsize 0\n",
      "2018-06-08 13:42:46,874 : INFO : EPOCH 3 - PROGRESS: at 67.92% examples, 1075302 words/s, in_qsize 7, out_qsize 0\n",
      "2018-06-08 13:42:47,874 : INFO : EPOCH 3 - PROGRESS: at 76.22% examples, 1073332 words/s, in_qsize 7, out_qsize 0\n",
      "2018-06-08 13:42:48,887 : INFO : EPOCH 3 - PROGRESS: at 84.72% examples, 1073449 words/s, in_qsize 7, out_qsize 0\n",
      "2018-06-08 13:42:49,888 : INFO : EPOCH 3 - PROGRESS: at 93.18% examples, 1073889 words/s, in_qsize 7, out_qsize 0\n",
      "2018-06-08 13:42:50,674 : INFO : worker thread finished; awaiting finish of 3 more threads\n",
      "2018-06-08 13:42:50,678 : INFO : worker thread finished; awaiting finish of 2 more threads\n",
      "2018-06-08 13:42:50,690 : INFO : worker thread finished; awaiting finish of 1 more threads\n",
      "2018-06-08 13:42:50,697 : INFO : worker thread finished; awaiting finish of 0 more threads\n",
      "2018-06-08 13:42:50,698 : INFO : EPOCH - 3 : training on 17798082 raw words (12749813 effective words) took 11.9s, 1074148 effective words/s\n",
      "2018-06-08 13:42:51,713 : INFO : EPOCH 4 - PROGRESS: at 8.22% examples, 1035457 words/s, in_qsize 7, out_qsize 0\n",
      "2018-06-08 13:42:52,723 : INFO : EPOCH 4 - PROGRESS: at 16.84% examples, 1056639 words/s, in_qsize 7, out_qsize 0\n",
      "2018-06-08 13:42:53,726 : INFO : EPOCH 4 - PROGRESS: at 25.45% examples, 1067696 words/s, in_qsize 7, out_qsize 0\n",
      "2018-06-08 13:42:54,740 : INFO : EPOCH 4 - PROGRESS: at 34.10% examples, 1070390 words/s, in_qsize 7, out_qsize 0\n",
      "2018-06-08 13:42:55,748 : INFO : EPOCH 4 - PROGRESS: at 42.57% examples, 1072014 words/s, in_qsize 7, out_qsize 0\n",
      "2018-06-08 13:42:56,750 : INFO : EPOCH 4 - PROGRESS: at 50.95% examples, 1071753 words/s, in_qsize 7, out_qsize 0\n",
      "2018-06-08 13:42:57,753 : INFO : EPOCH 4 - PROGRESS: at 59.39% examples, 1073409 words/s, in_qsize 7, out_qsize 0\n",
      "2018-06-08 13:42:58,753 : INFO : EPOCH 4 - PROGRESS: at 67.86% examples, 1074112 words/s, in_qsize 7, out_qsize 0\n",
      "2018-06-08 13:42:59,759 : INFO : EPOCH 4 - PROGRESS: at 76.38% examples, 1074901 words/s, in_qsize 7, out_qsize 0\n",
      "2018-06-08 13:43:00,761 : INFO : EPOCH 4 - PROGRESS: at 84.88% examples, 1075905 words/s, in_qsize 7, out_qsize 0\n",
      "2018-06-08 13:43:01,767 : INFO : EPOCH 4 - PROGRESS: at 93.28% examples, 1074972 words/s, in_qsize 7, out_qsize 0\n"
     ]
    },
    {
     "name": "stderr",
     "output_type": "stream",
     "text": [
      "2018-06-08 13:43:02,536 : INFO : worker thread finished; awaiting finish of 3 more threads\n",
      "2018-06-08 13:43:02,547 : INFO : worker thread finished; awaiting finish of 2 more threads\n",
      "2018-06-08 13:43:02,554 : INFO : worker thread finished; awaiting finish of 1 more threads\n",
      "2018-06-08 13:43:02,561 : INFO : worker thread finished; awaiting finish of 0 more threads\n",
      "2018-06-08 13:43:02,562 : INFO : EPOCH - 4 : training on 17798082 raw words (12749727 effective words) took 11.9s, 1075307 effective words/s\n",
      "2018-06-08 13:43:03,570 : INFO : EPOCH 5 - PROGRESS: at 8.28% examples, 1050148 words/s, in_qsize 7, out_qsize 0\n",
      "2018-06-08 13:43:04,574 : INFO : EPOCH 5 - PROGRESS: at 16.84% examples, 1063191 words/s, in_qsize 7, out_qsize 0\n",
      "2018-06-08 13:43:05,576 : INFO : EPOCH 5 - PROGRESS: at 25.33% examples, 1067619 words/s, in_qsize 7, out_qsize 0\n",
      "2018-06-08 13:43:06,578 : INFO : EPOCH 5 - PROGRESS: at 33.88% examples, 1069944 words/s, in_qsize 7, out_qsize 0\n",
      "2018-06-08 13:43:07,579 : INFO : EPOCH 5 - PROGRESS: at 42.24% examples, 1070375 words/s, in_qsize 7, out_qsize 0\n",
      "2018-06-08 13:43:08,581 : INFO : EPOCH 5 - PROGRESS: at 50.68% examples, 1071570 words/s, in_qsize 7, out_qsize 0\n",
      "2018-06-08 13:43:09,589 : INFO : EPOCH 5 - PROGRESS: at 59.11% examples, 1072405 words/s, in_qsize 7, out_qsize 0\n",
      "2018-06-08 13:43:10,597 : INFO : EPOCH 5 - PROGRESS: at 67.63% examples, 1073085 words/s, in_qsize 7, out_qsize 0\n",
      "2018-06-08 13:43:11,607 : INFO : EPOCH 5 - PROGRESS: at 76.16% examples, 1073574 words/s, in_qsize 7, out_qsize 0\n",
      "2018-06-08 13:43:12,615 : INFO : EPOCH 5 - PROGRESS: at 84.67% examples, 1074002 words/s, in_qsize 7, out_qsize 0\n",
      "2018-06-08 13:43:13,625 : INFO : EPOCH 5 - PROGRESS: at 93.18% examples, 1074258 words/s, in_qsize 7, out_qsize 0\n",
      "2018-06-08 13:43:14,408 : INFO : worker thread finished; awaiting finish of 3 more threads\n",
      "2018-06-08 13:43:14,420 : INFO : worker thread finished; awaiting finish of 2 more threads\n",
      "2018-06-08 13:43:14,424 : INFO : worker thread finished; awaiting finish of 1 more threads\n",
      "2018-06-08 13:43:14,428 : INFO : worker thread finished; awaiting finish of 0 more threads\n",
      "2018-06-08 13:43:14,429 : INFO : EPOCH - 5 : training on 17798082 raw words (12748013 effective words) took 11.9s, 1074983 effective words/s\n",
      "2018-06-08 13:43:14,429 : INFO : training on a 88990410 raw words (63748993 effective words) took 60.3s, 1057689 effective words/s\n",
      "2018-06-08 13:43:14,430 : INFO : precomputing L2-norms of word weight vectors\n",
      "2018-06-08 13:43:14,580 : INFO : saving Word2Vec object under 300features_40minwords_10context, separately None\n",
      "2018-06-08 13:43:14,581 : INFO : not storing attribute vectors_norm\n",
      "2018-06-08 13:43:14,582 : INFO : not storing attribute cum_table\n",
      "2018-06-08 13:43:15,186 : INFO : saved 300features_40minwords_10context\n"
     ]
    }
   ],
   "source": [
    "# Import the built-in logging module and configure it so that Word2Vec \n",
    "# creates nice output messages\n",
    "import logging\n",
    "logging.basicConfig(format='%(asctime)s : %(levelname)s : %(message)s',\\\n",
    "    level=logging.INFO)\n",
    "\n",
    "# Set values for various parameters\n",
    "num_features = 300    # Word vector dimensionality                      \n",
    "min_word_count = 40   # Minimum word count                        \n",
    "num_workers = 4       # Number of threads to run in parallel\n",
    "context = 10          # Context window size                                                                                    \n",
    "downsampling = 1e-3   # Downsample setting for frequent words\n",
    "\n",
    "# Initialize and train the model (this will take some time)\n",
    "from gensim.models import word2vec\n",
    "print(\"Training model...\")\n",
    "model = word2vec.Word2Vec(sentences, workers=num_workers, \\\n",
    "            size=num_features, min_count = min_word_count, \\\n",
    "            window = context, sample = downsampling)\n",
    "\n",
    "# If you don't plan to train the model any further, calling \n",
    "# init_sims will make the model much more memory-efficient.\n",
    "model.init_sims(replace=True)\n",
    "\n",
    "# It can be helpful to create a meaningful model name and \n",
    "# save the model for later use. You can load it later using Word2Vec.load()\n",
    "model_name = \"300features_40minwords_10context\"\n",
    "model.save(model_name)"
   ]
  },
  {
   "cell_type": "markdown",
   "metadata": {},
   "source": [
    "# Exploring the Model Results"
   ]
  },
  {
   "cell_type": "code",
   "execution_count": 19,
   "metadata": {},
   "outputs": [
    {
     "data": {
      "text/plain": [
       "'kitchen'"
      ]
     },
     "execution_count": 19,
     "metadata": {},
     "output_type": "execute_result"
    }
   ],
   "source": [
    "model.doesnt_match(\"man woman child kitchen\".split())"
   ]
  },
  {
   "cell_type": "code",
   "execution_count": 20,
   "metadata": {},
   "outputs": [
    {
     "data": {
      "text/plain": [
       "'berlin'"
      ]
     },
     "execution_count": 20,
     "metadata": {},
     "output_type": "execute_result"
    }
   ],
   "source": [
    "model.doesnt_match(\"france england germany berlin\".split())"
   ]
  },
  {
   "cell_type": "code",
   "execution_count": 21,
   "metadata": {},
   "outputs": [
    {
     "data": {
      "text/plain": [
       "'paris'"
      ]
     },
     "execution_count": 21,
     "metadata": {},
     "output_type": "execute_result"
    }
   ],
   "source": [
    "model.doesnt_match(\"paris berlin london austria\".split())"
   ]
  },
  {
   "cell_type": "code",
   "execution_count": 22,
   "metadata": {},
   "outputs": [
    {
     "data": {
      "text/plain": [
       "[('woman', 0.6268669366836548),\n",
       " ('lady', 0.5913753509521484),\n",
       " ('lad', 0.5675976276397705),\n",
       " ('guy', 0.5300781726837158),\n",
       " ('person', 0.5196842551231384),\n",
       " ('monk', 0.5194322466850281),\n",
       " ('farmer', 0.5101560950279236),\n",
       " ('sailor', 0.5071306824684143),\n",
       " ('soldier', 0.5039519667625427),\n",
       " ('men', 0.502257227897644)]"
      ]
     },
     "execution_count": 22,
     "metadata": {},
     "output_type": "execute_result"
    }
   ],
   "source": [
    "model.most_similar(\"man\")"
   ]
  },
  {
   "cell_type": "code",
   "execution_count": 23,
   "metadata": {},
   "outputs": [
    {
     "data": {
      "text/plain": [
       "[('princess', 0.648817777633667),\n",
       " ('belle', 0.6002864241600037),\n",
       " ('eva', 0.599858283996582),\n",
       " ('mistress', 0.5996459126472473),\n",
       " ('maid', 0.5906264781951904),\n",
       " ('regina', 0.5899233818054199),\n",
       " ('victoria', 0.5890839099884033),\n",
       " ('bride', 0.5841931104660034),\n",
       " ('latifah', 0.583801805973053),\n",
       " ('maria', 0.581763505935669)]"
      ]
     },
     "execution_count": 23,
     "metadata": {},
     "output_type": "execute_result"
    }
   ],
   "source": [
    "model.most_similar(\"queen\")"
   ]
  },
  {
   "cell_type": "code",
   "execution_count": 24,
   "metadata": {},
   "outputs": [
    {
     "data": {
      "text/plain": [
       "[('terrible', 0.77015221118927),\n",
       " ('horrible', 0.7469659447669983),\n",
       " ('atrocious', 0.7335578203201294),\n",
       " ('abysmal', 0.7048677802085876),\n",
       " ('dreadful', 0.7017945647239685),\n",
       " ('appalling', 0.6771308779716492),\n",
       " ('horrid', 0.6641309261322021),\n",
       " ('horrendous', 0.6565769910812378),\n",
       " ('lousy', 0.6234528422355652),\n",
       " ('laughable', 0.6173096895217896)]"
      ]
     },
     "execution_count": 24,
     "metadata": {},
     "output_type": "execute_result"
    }
   ],
   "source": [
    "model.most_similar(\"awful\")"
   ]
  },
  {
   "cell_type": "markdown",
   "metadata": {},
   "source": [
    "# More Fun With Word Vectors"
   ]
  },
  {
   "cell_type": "markdown",
   "metadata": {},
   "source": [
    "## Numeric Representations of Words"
   ]
  },
  {
   "cell_type": "code",
   "execution_count": 25,
   "metadata": {},
   "outputs": [],
   "source": [
    "from gensim.models import Word2Vec"
   ]
  },
  {
   "cell_type": "code",
   "execution_count": 26,
   "metadata": {},
   "outputs": [
    {
     "name": "stderr",
     "output_type": "stream",
     "text": [
      "2018-06-08 13:47:14,180 : INFO : loading Word2Vec object from 300features_40minwords_10context\n",
      "2018-06-08 13:47:14,520 : INFO : loading wv recursively from 300features_40minwords_10context.wv.* with mmap=None\n",
      "2018-06-08 13:47:14,521 : INFO : setting ignored attribute vectors_norm to None\n",
      "2018-06-08 13:47:14,521 : INFO : loading vocabulary recursively from 300features_40minwords_10context.vocabulary.* with mmap=None\n",
      "2018-06-08 13:47:14,522 : INFO : loading trainables recursively from 300features_40minwords_10context.trainables.* with mmap=None\n",
      "2018-06-08 13:47:14,522 : INFO : setting ignored attribute cum_table to None\n",
      "2018-06-08 13:47:14,523 : INFO : loaded 300features_40minwords_10context\n"
     ]
    }
   ],
   "source": [
    "model = Word2Vec.load(\"300features_40minwords_10context\")"
   ]
  },
  {
   "cell_type": "code",
   "execution_count": 28,
   "metadata": {},
   "outputs": [
    {
     "data": {
      "text/plain": [
       "numpy.ndarray"
      ]
     },
     "execution_count": 28,
     "metadata": {},
     "output_type": "execute_result"
    }
   ],
   "source": [
    "type(model.wv.syn0)"
   ]
  },
  {
   "cell_type": "code",
   "execution_count": 29,
   "metadata": {},
   "outputs": [
    {
     "data": {
      "text/plain": [
       "(16490, 300)"
      ]
     },
     "execution_count": 29,
     "metadata": {},
     "output_type": "execute_result"
    }
   ],
   "source": [
    "model.wv.syn0.shape"
   ]
  },
  {
   "cell_type": "code",
   "execution_count": 39,
   "metadata": {},
   "outputs": [
    {
     "data": {
      "text/plain": [
       "(300,)"
      ]
     },
     "execution_count": 39,
     "metadata": {},
     "output_type": "execute_result"
    }
   ],
   "source": [
    "model.wv['flower'].shape"
   ]
  },
  {
   "cell_type": "code",
   "execution_count": 31,
   "metadata": {},
   "outputs": [
    {
     "data": {
      "text/plain": [
       "array([-0.02126038, -0.07174639, -0.09453137,  0.02006711, -0.00061063,\n",
       "        0.04208945,  0.06831188, -0.02231076,  0.07070734, -0.06267736,\n",
       "       -0.04803132,  0.05455393,  0.053824  , -0.01698873,  0.08780768,\n",
       "        0.03812271,  0.05156148,  0.00542303,  0.12575129,  0.02209862,\n",
       "        0.05048895, -0.06192749,  0.01876858, -0.07182054,  0.0736201 ,\n",
       "        0.01810209,  0.11593132, -0.02639383,  0.00668718,  0.07856153,\n",
       "        0.0070363 ,  0.06570432,  0.06874821,  0.02721597,  0.01020559,\n",
       "       -0.03201872, -0.04692639,  0.04517887,  0.00139306, -0.011076  ,\n",
       "       -0.03086644,  0.09124836,  0.06479169,  0.01176843, -0.03789015,\n",
       "       -0.01299938,  0.00196332, -0.01648852, -0.00323442,  0.08011638,\n",
       "        0.09551287, -0.0385311 , -0.02601301, -0.0650504 ,  0.03706691,\n",
       "        0.1123137 , -0.00666139,  0.00765615,  0.02689798, -0.11085436,\n",
       "       -0.04756327,  0.0966139 ,  0.12006098, -0.04014163,  0.17065212,\n",
       "        0.07642167,  0.03194519, -0.05441636, -0.0714246 , -0.07371986,\n",
       "        0.07183339, -0.07540593, -0.0192629 , -0.04693338, -0.02175682,\n",
       "        0.03696764,  0.03775082, -0.04020536,  0.06246089, -0.00916508,\n",
       "        0.07756382,  0.07709582, -0.02058392, -0.08049015, -0.05751822,\n",
       "        0.06439931,  0.11295933, -0.1108755 , -0.09638389, -0.01855072,\n",
       "        0.05271856,  0.04291619, -0.0545418 , -0.05017438, -0.02170181,\n",
       "        0.02354626,  0.04611243, -0.07040396,  0.04454574,  0.00679292,\n",
       "        0.00052716,  0.05459335,  0.01026909,  0.02150771,  0.02102057,\n",
       "        0.04279459,  0.0374901 ,  0.02341662,  0.02774551,  0.05019563,\n",
       "        0.00762153,  0.01040219,  0.09960002, -0.09090952,  0.03923347,\n",
       "       -0.14233097, -0.04998685, -0.04182503,  0.02433958,  0.03772747,\n",
       "       -0.09041485,  0.01019932, -0.03144323,  0.02079062,  0.01257835,\n",
       "        0.01297474,  0.06864531,  0.12328967,  0.00616307, -0.04692221,\n",
       "        0.09468169, -0.07469668, -0.0687952 ,  0.00032864,  0.00054717,\n",
       "        0.03338787,  0.00244346, -0.03428999,  0.03410024, -0.01788728,\n",
       "       -0.0358032 , -0.03324199, -0.05138867,  0.05981898, -0.01239943,\n",
       "        0.02180867, -0.02321543, -0.05115148,  0.00618727,  0.02141435,\n",
       "       -0.05214071,  0.00822792,  0.04741836, -0.0916105 , -0.11844408,\n",
       "       -0.05752295,  0.00528964, -0.10692723,  0.11822851,  0.0085135 ,\n",
       "       -0.06478136, -0.00338493, -0.05444229, -0.02079581, -0.0669347 ,\n",
       "        0.12235619,  0.09436593, -0.02256776,  0.02336163, -0.10929476,\n",
       "       -0.04918814,  0.07252178,  0.00167702,  0.01274982, -0.08560389,\n",
       "       -0.0390881 ,  0.00369317, -0.05503543, -0.06943639,  0.03428992,\n",
       "        0.04289256, -0.02216072,  0.00940012,  0.03376534,  0.0267878 ,\n",
       "        0.00476469, -0.01735364, -0.01623498, -0.06249498, -0.03776863,\n",
       "       -0.01180563, -0.03179438,  0.06159298,  0.01354711,  0.03000442,\n",
       "       -0.03239151,  0.02469843, -0.03742119,  0.02660763, -0.11535078,\n",
       "        0.07866162, -0.00891126, -0.08811765,  0.02541434,  0.08593138,\n",
       "       -0.11011289,  0.01405951, -0.07656553,  0.11737344,  0.09094657,\n",
       "       -0.03851593, -0.03539654,  0.00305345,  0.02069742,  0.0414996 ,\n",
       "       -0.13706076, -0.09964674, -0.00687379,  0.03248607, -0.03168382,\n",
       "        0.01723685, -0.0623733 ,  0.01868748, -0.06734405,  0.11926623,\n",
       "       -0.02772783, -0.04238286, -0.11359699,  0.02106731, -0.08130411,\n",
       "       -0.04511429, -0.05491102,  0.02419232, -0.06122024,  0.01049686,\n",
       "       -0.00905804,  0.00182295, -0.03198894,  0.09474836,  0.01409742,\n",
       "        0.02744323, -0.00681973,  0.02139135, -0.02135042,  0.01690833,\n",
       "        0.10662551,  0.06658073,  0.05181243, -0.0155495 ,  0.05130656,\n",
       "       -0.01651289, -0.0715826 ,  0.01234046,  0.00235982,  0.0102024 ,\n",
       "        0.01736678, -0.02720071,  0.04618794, -0.07731359, -0.03181254,\n",
       "       -0.01196829, -0.00424312, -0.02629534, -0.03965894,  0.09249446,\n",
       "        0.01689364,  0.06956712,  0.08915108,  0.00433141, -0.02987674,\n",
       "        0.00456785, -0.05459901, -0.05519916, -0.02795854,  0.06193595,\n",
       "        0.12120377, -0.13522016, -0.10291009,  0.04727406,  0.05196408,\n",
       "       -0.00174673,  0.06618097, -0.04650069, -0.0560954 ,  0.03203566,\n",
       "        0.10507211,  0.00764542, -0.00712221,  0.01753583, -0.06138034,\n",
       "        0.05683857, -0.07949951, -0.08190063,  0.01881325, -0.01011568,\n",
       "        0.05465245, -0.04042087,  0.08358199, -0.04054517,  0.0367237 ],\n",
       "      dtype=float32)"
      ]
     },
     "execution_count": 31,
     "metadata": {},
     "output_type": "execute_result"
    }
   ],
   "source": [
    "model[\"flower\"]"
   ]
  },
  {
   "cell_type": "markdown",
   "metadata": {},
   "source": [
    "# From Words To Paragraphs, Attempt 1: Vector Averaging"
   ]
  },
  {
   "cell_type": "code",
   "execution_count": 67,
   "metadata": {},
   "outputs": [],
   "source": [
    "import numpy as np"
   ]
  },
  {
   "cell_type": "code",
   "execution_count": 68,
   "metadata": {},
   "outputs": [],
   "source": [
    "def makeFeatureVec(words, model, num_features):\n",
    "\n",
    "    # Pre-initialize an empty numpy array for speed\n",
    "    featureVec = np.zeros((num_features,),dtype=\"float32\")\n",
    "    nwords = 0\n",
    "    \n",
    "    # Index2word is a list that contains the names of the words in \n",
    "    # the model's vocabulary. Convert it to a set, for speed \n",
    "    index2word_set = set(model.wv.index2word)\n",
    "    \n",
    "    # Loop over each word in the review and, if it is in the model's\n",
    "    # vocaublary, add its feature vector to the total\n",
    "    for word in words:\n",
    "        if word in index2word_set:\n",
    "            nwords = nwords+1.\n",
    "            featureVec = np.add(featureVec, model[word])\n",
    "    \n",
    "    # Divide the result by the number of words to get the avg\n",
    "    featureVec = np.divide(featureVec, nwords)\n",
    "    return featureVec"
   ]
  },
  {
   "cell_type": "code",
   "execution_count": 69,
   "metadata": {},
   "outputs": [],
   "source": [
    "def getAvgFeatureVecs(reviews, model, num_features):\n",
    "    # Given a set of reviews (each one a list of words), calculate \n",
    "    # the average feature vector for each one and return a 2D numpy array \n",
    "    # \n",
    "    # Initialize a counter\n",
    "    counter = 0\n",
    "    counter = int(counter)\n",
    "    \n",
    "    # Preallocate a 2D numpy array, for speed\n",
    "    reviewFeatureVecs = np.zeros((len(reviews),num_features),dtype=\"float32\")\n",
    "    \n",
    "    # Loop through the reviews\n",
    "    for review in reviews:\n",
    "       #\n",
    "       # Print a status message every 1000th review\n",
    "        if counter%1000. == 0.:\n",
    "            print(\"Review %d of %d\" % (counter, len(reviews)))\n",
    "        \n",
    "       # Call the function (defined above) that makes average feature vectors, increment the counter\n",
    "        reviewFeatureVecs[counter] = makeFeatureVec(review, model, num_features)\n",
    "        counter = counter + 1\n",
    "        \n",
    "    return reviewFeatureVecs"
   ]
  },
  {
   "cell_type": "code",
   "execution_count": 70,
   "metadata": {},
   "outputs": [
    {
     "name": "stdout",
     "output_type": "stream",
     "text": [
      "Creating average feature vecs for Training reviews\n",
      "Review 0 of 25000\n",
      "Review 1000 of 25000\n",
      "Review 2000 of 25000\n",
      "Review 3000 of 25000\n",
      "Review 4000 of 25000\n",
      "Review 5000 of 25000\n",
      "Review 6000 of 25000\n",
      "Review 7000 of 25000\n",
      "Review 8000 of 25000\n",
      "Review 9000 of 25000\n",
      "Review 10000 of 25000\n",
      "Review 11000 of 25000\n",
      "Review 12000 of 25000\n",
      "Review 13000 of 25000\n",
      "Review 14000 of 25000\n",
      "Review 15000 of 25000\n",
      "Review 16000 of 25000\n",
      "Review 17000 of 25000\n",
      "Review 18000 of 25000\n",
      "Review 19000 of 25000\n",
      "Review 20000 of 25000\n",
      "Review 21000 of 25000\n",
      "Review 22000 of 25000\n",
      "Review 23000 of 25000\n",
      "Review 24000 of 25000\n"
     ]
    }
   ],
   "source": [
    "# ****************************************************************\n",
    "# Calculate average feature vectors for training and testing sets,\n",
    "# using the functions we defined above. Notice that we now use stop word\n",
    "# removal.\n",
    "\n",
    "print (\"Creating average feature vecs for Training reviews\")\n",
    "clean_train_reviews = []\n",
    "for review in train[\"review\"]:\n",
    "    clean_train_reviews.append( review_to_wordlist( review, \\\n",
    "        remove_stopwords=True ))\n",
    "\n",
    "trainDataVecs = getAvgFeatureVecs( clean_train_reviews, model, num_features )"
   ]
  },
  {
   "cell_type": "code",
   "execution_count": 71,
   "metadata": {},
   "outputs": [
    {
     "name": "stdout",
     "output_type": "stream",
     "text": [
      "Creating average feature vecs for test reviews\n",
      "Review 0 of 25000\n",
      "Review 1000 of 25000\n",
      "Review 2000 of 25000\n",
      "Review 3000 of 25000\n",
      "Review 4000 of 25000\n",
      "Review 5000 of 25000\n",
      "Review 6000 of 25000\n",
      "Review 7000 of 25000\n",
      "Review 8000 of 25000\n",
      "Review 9000 of 25000\n",
      "Review 10000 of 25000\n",
      "Review 11000 of 25000\n",
      "Review 12000 of 25000\n",
      "Review 13000 of 25000\n",
      "Review 14000 of 25000\n",
      "Review 15000 of 25000\n",
      "Review 16000 of 25000\n",
      "Review 17000 of 25000\n",
      "Review 18000 of 25000\n",
      "Review 19000 of 25000\n",
      "Review 20000 of 25000\n",
      "Review 21000 of 25000\n",
      "Review 22000 of 25000\n",
      "Review 23000 of 25000\n",
      "Review 24000 of 25000\n"
     ]
    }
   ],
   "source": [
    "print (\"Creating average feature vecs for test reviews\")\n",
    "clean_test_reviews = []\n",
    "for review in test[\"review\"]:\n",
    "    clean_test_reviews.append( review_to_wordlist( review, \\\n",
    "        remove_stopwords=True ))\n",
    "\n",
    "testDataVecs = getAvgFeatureVecs( clean_test_reviews, model, num_features )"
   ]
  },
  {
   "cell_type": "code",
   "execution_count": 72,
   "metadata": {},
   "outputs": [
    {
     "name": "stdout",
     "output_type": "stream",
     "text": [
      "Fitting a random forest to labeled training data...\n"
     ]
    }
   ],
   "source": [
    "# Fit a random forest to the training data, using 100 trees\n",
    "from sklearn.ensemble import RandomForestClassifier\n",
    "from sklearn.preprocessing import Imputer\n",
    "\n",
    "forest = RandomForestClassifier( n_estimators = 100 )\n",
    "\n",
    "print(\"Fitting a random forest to labeled training data...\")\n",
    "trainDataVecs = Imputer().fit_transform(trainDataVecs)\n",
    "\n",
    "forest = forest.fit( trainDataVecs, train[\"sentiment\"] )"
   ]
  },
  {
   "cell_type": "code",
   "execution_count": 73,
   "metadata": {},
   "outputs": [],
   "source": [
    "# Test & extract results \n",
    "testDataVecs = Imputer().fit_transform(testDataVecs)\n",
    "result = forest.predict( testDataVecs )\n",
    "\n",
    "# Write the test results \n",
    "output = pd.DataFrame( data={\"id\":test[\"id\"], \"sentiment\":result} )\n",
    "output.to_csv( \"Word2Vec_AverageVectors.csv\", index=False, quoting=3 )"
   ]
  },
  {
   "cell_type": "code",
   "execution_count": 74,
   "metadata": {},
   "outputs": [],
   "source": [
    "from sklearn.cluster import KMeans\n",
    "import time\n",
    "start = time.time() # Start time"
   ]
  },
  {
   "cell_type": "code",
   "execution_count": 75,
   "metadata": {},
   "outputs": [],
   "source": [
    "# Set \"k\" (num_clusters) to be 1/5th of the vocabulary size, or an\n",
    "# average of 5 words per cluster\n",
    "word_vectors = model.wv.vectors\n",
    "num_clusters = int(word_vectors.shape[0] / 5)"
   ]
  },
  {
   "cell_type": "code",
   "execution_count": 76,
   "metadata": {},
   "outputs": [],
   "source": [
    "# Initalize a k-means object and use it to extract centroids\n",
    "kmeans_clustering = KMeans( n_clusters = num_clusters )\n",
    "idx = kmeans_clustering.fit_predict( word_vectors )"
   ]
  },
  {
   "cell_type": "code",
   "execution_count": 77,
   "metadata": {},
   "outputs": [
    {
     "name": "stdout",
     "output_type": "stream",
     "text": [
      "Time taken for K Means clustering:  456.84869408607483 seconds.\n"
     ]
    }
   ],
   "source": [
    "# Get the end time and print how long the process took\n",
    "end = time.time()\n",
    "elapsed = end - start\n",
    "print(\"Time taken for K Means clustering: \", elapsed, \"seconds.\")"
   ]
  },
  {
   "cell_type": "code",
   "execution_count": 78,
   "metadata": {},
   "outputs": [],
   "source": [
    "# Create a Word / Index dictionary, mapping each vocabulary word to\n",
    "# a cluster number \n",
    "word_centroid_map = dict(zip( model.wv.index2word, idx ))"
   ]
  },
  {
   "cell_type": "code",
   "execution_count": 79,
   "metadata": {},
   "outputs": [
    {
     "name": "stdout",
     "output_type": "stream",
     "text": [
      "\n",
      "Cluster 0\n",
      "['undeserved']\n",
      "\n",
      "Cluster 1\n",
      "['picard', 'sisko']\n",
      "\n",
      "Cluster 2\n",
      "['groovy', 'rocking']\n",
      "\n",
      "Cluster 3\n",
      "['contradictions']\n",
      "\n",
      "Cluster 4\n",
      "['logo', 'buses']\n",
      "\n",
      "Cluster 5\n",
      "['terrorist', 'unit', 'squad', 'traitor', 'bomber', 'swat', 'samir', 'ripley']\n",
      "\n",
      "Cluster 6\n",
      "['introduced', 'treated', 'witness', 'reduced', 'subjected', 'accustomed']\n",
      "\n",
      "Cluster 7\n",
      "['endearing', 'eccentric', 'enigmatic', 'oddball', 'amiable', 'astute', 'affectionate', 'unsavory', 'affable', 'loveable']\n",
      "\n",
      "Cluster 8\n",
      "['turner', 'ross', 'irving', 'topper', 'burnett', 'holliday', 'guild', 'keeler']\n",
      "\n",
      "Cluster 9\n",
      "['clubs', 'restaurants', 'hotels']\n"
     ]
    }
   ],
   "source": [
    "# For the first 10 clusters\n",
    "for cluster in range(0,10):\n",
    "    #\n",
    "    # Print the cluster number  \n",
    "    print(\"\\nCluster %d\" % cluster)\n",
    "    #\n",
    "    # Find all of the words for that cluster number, and print them out\n",
    "    words = []\n",
    "    for i in range(0,len(list(word_centroid_map.values()))):\n",
    "        if( list(word_centroid_map.values())[i] == cluster ):\n",
    "            words.append(list(word_centroid_map)[i])\n",
    "    print(words)"
   ]
  },
  {
   "cell_type": "code",
   "execution_count": 80,
   "metadata": {},
   "outputs": [],
   "source": [
    "def create_bag_of_centroids( wordlist, word_centroid_map ):\n",
    "    #\n",
    "    # The number of clusters is equal to the highest cluster index\n",
    "    # in the word / centroid map\n",
    "    num_centroids = max( word_centroid_map.values() ) + 1\n",
    "    #\n",
    "    # Pre-allocate the bag of centroids vector (for speed)\n",
    "    bag_of_centroids = np.zeros( num_centroids, dtype=\"float32\" )\n",
    "    #\n",
    "    # Loop over the words in the review. If the word is in the vocabulary,\n",
    "    # find which cluster it belongs to, and increment that cluster count \n",
    "    # by one\n",
    "    for word in wordlist:\n",
    "        if word in word_centroid_map:\n",
    "            index = word_centroid_map[word]\n",
    "            bag_of_centroids[index] += 1\n",
    "    #\n",
    "    # Return the \"bag of centroids\"\n",
    "    return bag_of_centroids"
   ]
  },
  {
   "cell_type": "code",
   "execution_count": 81,
   "metadata": {},
   "outputs": [],
   "source": [
    "# Pre-allocate an array for the training set bags of centroids (for speed)\n",
    "train_centroids = np.zeros( (train[\"review\"].size, num_clusters), \\\n",
    "    dtype=\"float32\" )\n",
    "\n",
    "# Transform the training set reviews into bags of centroids\n",
    "counter = 0\n",
    "for review in clean_train_reviews:\n",
    "    train_centroids[counter] = create_bag_of_centroids( review, \\\n",
    "        word_centroid_map )\n",
    "    counter += 1"
   ]
  },
  {
   "cell_type": "code",
   "execution_count": 82,
   "metadata": {},
   "outputs": [],
   "source": [
    "# Repeat for test reviews \n",
    "test_centroids = np.zeros(( test[\"review\"].size, num_clusters), \\\n",
    "    dtype=\"float32\" )\n",
    "\n",
    "counter = 0\n",
    "for review in clean_test_reviews:\n",
    "    test_centroids[counter] = create_bag_of_centroids( review, \\\n",
    "        word_centroid_map )\n",
    "    counter += 1"
   ]
  },
  {
   "cell_type": "code",
   "execution_count": 83,
   "metadata": {},
   "outputs": [
    {
     "name": "stdout",
     "output_type": "stream",
     "text": [
      "Fitting a random forest to labeled training data...\n"
     ]
    }
   ],
   "source": [
    "# Fit a random forest and extract predictions \n",
    "forest = RandomForestClassifier(n_estimators = 100)\n",
    "\n",
    "# Fitting the forest may take a few minutes\n",
    "print(\"Fitting a random forest to labeled training data...\")\n",
    "forest = forest.fit(train_centroids,train[\"sentiment\"])\n",
    "result = forest.predict(test_centroids)\n",
    "\n",
    "# Write the test results \n",
    "output = pd.DataFrame(data={\"id\":test[\"id\"], \"sentiment\":result})\n",
    "output.to_csv( \"BagOfCentroids.csv\", index=False, quoting=3 )"
   ]
  },
  {
   "cell_type": "markdown",
   "metadata": {},
   "source": [
    "python3 code \n",
    "\n",
    "https://github.com/tneupaney/Bag-of-Words-Meets-Bags-of-Popcorn"
   ]
  },
  {
   "cell_type": "code",
   "execution_count": null,
   "metadata": {},
   "outputs": [],
   "source": []
  }
 ],
 "metadata": {
  "kernelspec": {
   "display_name": "Python 3",
   "language": "python",
   "name": "python3"
  },
  "language_info": {
   "codemirror_mode": {
    "name": "ipython",
    "version": 3
   },
   "file_extension": ".py",
   "mimetype": "text/x-python",
   "name": "python",
   "nbconvert_exporter": "python",
   "pygments_lexer": "ipython3",
   "version": "3.6.4"
  }
 },
 "nbformat": 4,
 "nbformat_minor": 2
}
